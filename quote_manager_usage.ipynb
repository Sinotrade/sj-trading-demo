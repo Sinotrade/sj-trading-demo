{
 "cells": [
  {
   "cell_type": "code",
   "execution_count": 1,
   "id": "39598018-4074-4cdd-82c8-e1182bb3e82b",
   "metadata": {},
   "outputs": [],
   "source": [
    "import sj_trading\n",
    "from sj_trading.quote import QuoteManager\n",
    "import polars as pl\n",
    "import polars_talib as plta"
   ]
  },
  {
   "cell_type": "code",
   "execution_count": 2,
   "id": "c758d0b6-b4a1-4a71-aeb2-9670efe86883",
   "metadata": {},
   "outputs": [
    {
     "name": "stdout",
     "output_type": "stream",
     "text": [
      "Response Code: 0 | Event Code: 0 | Info: host '210.59.255.161:80', hostname '210.59.255.161:80' IP 210.59.255.161:80 (host 1 of 1) (host connection attempt 1 of 1) (total connection attempt 1 of 1) | Event: Session up\n"
     ]
    }
   ],
   "source": [
    "api = sj_trading.get_api()"
   ]
  },
  {
   "cell_type": "code",
   "execution_count": 3,
   "id": "5ad5f6d8-41b7-418e-8882-b3e754392a6c",
   "metadata": {},
   "outputs": [],
   "source": [
    "quote_manager = QuoteManager(api)"
   ]
  },
  {
   "cell_type": "code",
   "execution_count": 5,
   "id": "9a2e00df-93f9-46f7-a892-0591d72132b9",
   "metadata": {},
   "outputs": [
    {
     "name": "stdout",
     "output_type": "stream",
     "text": [
      "Response Code: 200 | Event Code: 16 | Info: TIC/v1/STK/*/TSE/2330 | Event: Subscribe or Unsubscribe ok\n",
      "Response Code: 200 | Event Code: 16 | Info: TIC/v1/STK/*/TSE/2890 | Event: Subscribe or Unsubscribe ok\n",
      "Response Code: 200 | Event Code: 16 | Info: TIC/v1/STK/*/TSE/2317 | Event: Subscribe or Unsubscribe ok\n"
     ]
    }
   ],
   "source": [
    "quote_manager.subscribe_stk_tick([\"2330\", \"2890\", \"2317\"], recover=True)"
   ]
  },
  {
   "cell_type": "code",
   "execution_count": 6,
   "id": "f20f1c78-59ae-4098-a8eb-5c8b7a7fd5c2",
   "metadata": {},
   "outputs": [],
   "source": [
    "df_ticks = quote_manager.get_df_stk()"
   ]
  },
  {
   "cell_type": "code",
   "execution_count": 7,
   "id": "0aea7e71-d10e-4e25-ba56-90c98c06178e",
   "metadata": {},
   "outputs": [
    {
     "data": {
      "text/html": [
       "<div><style>\n",
       ".dataframe > thead > tr,\n",
       ".dataframe > tbody > tr {\n",
       "  text-align: right;\n",
       "  white-space: pre-wrap;\n",
       "}\n",
       "</style>\n",
       "<small>shape: (29_886, 5)</small><table border=\"1\" class=\"dataframe\"><thead><tr><th>datetime</th><th>code</th><th>price</th><th>volume</th><th>tick_type</th></tr><tr><td>datetime[μs]</td><td>str</td><td>f64</td><td>i64</td><td>i8</td></tr></thead><tbody><tr><td>2024-10-09 09:00:06.187239</td><td>&quot;2330&quot;</td><td>1030.0</td><td>4932</td><td>1</td></tr><tr><td>2024-10-09 09:00:06.271956</td><td>&quot;2330&quot;</td><td>1025.0</td><td>1</td><td>2</td></tr><tr><td>2024-10-09 09:00:06.367591</td><td>&quot;2330&quot;</td><td>1030.0</td><td>158</td><td>1</td></tr><tr><td>2024-10-09 09:00:06.380447</td><td>&quot;2330&quot;</td><td>1030.0</td><td>4</td><td>1</td></tr><tr><td>2024-10-09 09:00:06.381299</td><td>&quot;2330&quot;</td><td>1025.0</td><td>1</td><td>2</td></tr><tr><td>&hellip;</td><td>&hellip;</td><td>&hellip;</td><td>&hellip;</td><td>&hellip;</td></tr><tr><td>2024-10-09 13:24:57.021834</td><td>&quot;2317&quot;</td><td>198.0</td><td>1</td><td>2</td></tr><tr><td>2024-10-09 13:24:57.669549</td><td>&quot;2317&quot;</td><td>198.5</td><td>1</td><td>1</td></tr><tr><td>2024-10-09 13:24:58.217345</td><td>&quot;2317&quot;</td><td>198.5</td><td>5</td><td>1</td></tr><tr><td>2024-10-09 13:24:59.660424</td><td>&quot;2317&quot;</td><td>198.0</td><td>1</td><td>2</td></tr><tr><td>2024-10-09 13:30:00</td><td>&quot;2317&quot;</td><td>199.0</td><td>5343</td><td>1</td></tr></tbody></table></div>"
      ],
      "text/plain": [
       "shape: (29_886, 5)\n",
       "┌────────────────────────────┬──────┬────────┬────────┬───────────┐\n",
       "│ datetime                   ┆ code ┆ price  ┆ volume ┆ tick_type │\n",
       "│ ---                        ┆ ---  ┆ ---    ┆ ---    ┆ ---       │\n",
       "│ datetime[μs]               ┆ str  ┆ f64    ┆ i64    ┆ i8        │\n",
       "╞════════════════════════════╪══════╪════════╪════════╪═══════════╡\n",
       "│ 2024-10-09 09:00:06.187239 ┆ 2330 ┆ 1030.0 ┆ 4932   ┆ 1         │\n",
       "│ 2024-10-09 09:00:06.271956 ┆ 2330 ┆ 1025.0 ┆ 1      ┆ 2         │\n",
       "│ 2024-10-09 09:00:06.367591 ┆ 2330 ┆ 1030.0 ┆ 158    ┆ 1         │\n",
       "│ 2024-10-09 09:00:06.380447 ┆ 2330 ┆ 1030.0 ┆ 4      ┆ 1         │\n",
       "│ 2024-10-09 09:00:06.381299 ┆ 2330 ┆ 1025.0 ┆ 1      ┆ 2         │\n",
       "│ …                          ┆ …    ┆ …      ┆ …      ┆ …         │\n",
       "│ 2024-10-09 13:24:57.021834 ┆ 2317 ┆ 198.0  ┆ 1      ┆ 2         │\n",
       "│ 2024-10-09 13:24:57.669549 ┆ 2317 ┆ 198.5  ┆ 1      ┆ 1         │\n",
       "│ 2024-10-09 13:24:58.217345 ┆ 2317 ┆ 198.5  ┆ 5      ┆ 1         │\n",
       "│ 2024-10-09 13:24:59.660424 ┆ 2317 ┆ 198.0  ┆ 1      ┆ 2         │\n",
       "│ 2024-10-09 13:30:00        ┆ 2317 ┆ 199.0  ┆ 5343   ┆ 1         │\n",
       "└────────────────────────────┴──────┴────────┴────────┴───────────┘"
      ]
     },
     "execution_count": 7,
     "metadata": {},
     "output_type": "execute_result"
    }
   ],
   "source": [
    "df_ticks"
   ]
  },
  {
   "cell_type": "code",
   "execution_count": 13,
   "id": "8441606b-4bc5-43ff-9d73-db5d08975f1e",
   "metadata": {},
   "outputs": [
    {
     "data": {
      "text/html": [
       "<div><style>\n",
       ".dataframe > thead > tr,\n",
       ".dataframe > tbody > tr {\n",
       "  text-align: right;\n",
       "  white-space: pre-wrap;\n",
       "}\n",
       "</style>\n",
       "<small>shape: (162, 9)</small><table border=\"1\" class=\"dataframe\"><thead><tr><th>datetime</th><th>code</th><th>open</th><th>high</th><th>low</th><th>close</th><th>volume</th><th>ema5</th><th>macd</th></tr><tr><td>datetime[μs]</td><td>str</td><td>f64</td><td>f64</td><td>f64</td><td>f64</td><td>i64</td><td>f64</td><td>f64</td></tr></thead><tbody><tr><td>2024-10-09 09:00:00</td><td>&quot;2330&quot;</td><td>1030.0</td><td>1030.0</td><td>1025.0</td><td>1025.0</td><td>6260</td><td>null</td><td>null</td></tr><tr><td>2024-10-09 09:05:00</td><td>&quot;2330&quot;</td><td>1025.0</td><td>1030.0</td><td>1025.0</td><td>1025.0</td><td>738</td><td>null</td><td>null</td></tr><tr><td>2024-10-09 09:10:00</td><td>&quot;2330&quot;</td><td>1025.0</td><td>1030.0</td><td>1025.0</td><td>1025.0</td><td>552</td><td>null</td><td>null</td></tr><tr><td>2024-10-09 09:15:00</td><td>&quot;2330&quot;</td><td>1030.0</td><td>1030.0</td><td>1025.0</td><td>1025.0</td><td>438</td><td>null</td><td>null</td></tr><tr><td>2024-10-09 09:20:00</td><td>&quot;2330&quot;</td><td>1025.0</td><td>1030.0</td><td>1025.0</td><td>1025.0</td><td>254</td><td>1025.0</td><td>null</td></tr><tr><td>&hellip;</td><td>&hellip;</td><td>&hellip;</td><td>&hellip;</td><td>&hellip;</td><td>&hellip;</td><td>&hellip;</td><td>&hellip;</td><td>&hellip;</td></tr><tr><td>2024-10-09 13:05:00</td><td>&quot;2317&quot;</td><td>198.5</td><td>198.5</td><td>198.0</td><td>198.5</td><td>384</td><td>198.408477</td><td>-0.010153</td></tr><tr><td>2024-10-09 13:10:00</td><td>&quot;2317&quot;</td><td>198.5</td><td>198.5</td><td>198.0</td><td>198.0</td><td>1146</td><td>198.272318</td><td>-0.042684</td></tr><tr><td>2024-10-09 13:15:00</td><td>&quot;2317&quot;</td><td>198.5</td><td>199.0</td><td>198.0</td><td>199.0</td><td>1588</td><td>198.514879</td><td>0.012087</td></tr><tr><td>2024-10-09 13:20:00</td><td>&quot;2317&quot;</td><td>198.5</td><td>199.0</td><td>198.0</td><td>198.0</td><td>2032</td><td>198.343252</td><td>-0.02491</td></tr><tr><td>2024-10-09 13:30:00</td><td>&quot;2317&quot;</td><td>199.0</td><td>199.0</td><td>199.0</td><td>199.0</td><td>5343</td><td>198.562168</td><td>0.026159</td></tr></tbody></table></div>"
      ],
      "text/plain": [
       "shape: (162, 9)\n",
       "┌─────────────────────┬──────┬────────┬────────┬───┬────────┬────────┬────────────┬───────────┐\n",
       "│ datetime            ┆ code ┆ open   ┆ high   ┆ … ┆ close  ┆ volume ┆ ema5       ┆ macd      │\n",
       "│ ---                 ┆ ---  ┆ ---    ┆ ---    ┆   ┆ ---    ┆ ---    ┆ ---        ┆ ---       │\n",
       "│ datetime[μs]        ┆ str  ┆ f64    ┆ f64    ┆   ┆ f64    ┆ i64    ┆ f64        ┆ f64       │\n",
       "╞═════════════════════╪══════╪════════╪════════╪═══╪════════╪════════╪════════════╪═══════════╡\n",
       "│ 2024-10-09 09:00:00 ┆ 2330 ┆ 1030.0 ┆ 1030.0 ┆ … ┆ 1025.0 ┆ 6260   ┆ null       ┆ null      │\n",
       "│ 2024-10-09 09:05:00 ┆ 2330 ┆ 1025.0 ┆ 1030.0 ┆ … ┆ 1025.0 ┆ 738    ┆ null       ┆ null      │\n",
       "│ 2024-10-09 09:10:00 ┆ 2330 ┆ 1025.0 ┆ 1030.0 ┆ … ┆ 1025.0 ┆ 552    ┆ null       ┆ null      │\n",
       "│ 2024-10-09 09:15:00 ┆ 2330 ┆ 1030.0 ┆ 1030.0 ┆ … ┆ 1025.0 ┆ 438    ┆ null       ┆ null      │\n",
       "│ 2024-10-09 09:20:00 ┆ 2330 ┆ 1025.0 ┆ 1030.0 ┆ … ┆ 1025.0 ┆ 254    ┆ 1025.0     ┆ null      │\n",
       "│ …                   ┆ …    ┆ …      ┆ …      ┆ … ┆ …      ┆ …      ┆ …          ┆ …         │\n",
       "│ 2024-10-09 13:05:00 ┆ 2317 ┆ 198.5  ┆ 198.5  ┆ … ┆ 198.5  ┆ 384    ┆ 198.408477 ┆ -0.010153 │\n",
       "│ 2024-10-09 13:10:00 ┆ 2317 ┆ 198.5  ┆ 198.5  ┆ … ┆ 198.0  ┆ 1146   ┆ 198.272318 ┆ -0.042684 │\n",
       "│ 2024-10-09 13:15:00 ┆ 2317 ┆ 198.5  ┆ 199.0  ┆ … ┆ 199.0  ┆ 1588   ┆ 198.514879 ┆ 0.012087  │\n",
       "│ 2024-10-09 13:20:00 ┆ 2317 ┆ 198.5  ┆ 199.0  ┆ … ┆ 198.0  ┆ 2032   ┆ 198.343252 ┆ -0.02491  │\n",
       "│ 2024-10-09 13:30:00 ┆ 2317 ┆ 199.0  ┆ 199.0  ┆ … ┆ 199.0  ┆ 5343   ┆ 198.562168 ┆ 0.026159  │\n",
       "└─────────────────────┴──────┴────────┴────────┴───┴────────┴────────┴────────────┴───────────┘"
      ]
     },
     "execution_count": 13,
     "metadata": {},
     "output_type": "execute_result"
    }
   ],
   "source": [
    "quote_manager.get_df_stk_kbar(\"5m\", [\n",
    "    pl.col(\"close\").ta.ema(5).over(\"code\").fill_nan(None).alias(\"ema5\"),\n",
    "    plta.macd(pl.col(\"close\"), 12, 26, 9).over(\"code\").struct.field(\"macd\").fill_nan(None),\n",
    "])"
   ]
  },
  {
   "cell_type": "code",
   "execution_count": 14,
   "id": "8d04d88f-77e8-4fae-afca-bba30fda8e26",
   "metadata": {},
   "outputs": [
    {
     "name": "stdout",
     "output_type": "stream",
     "text": [
      "Response Code: 200 | Event Code: 16 | Info: TIC/v1/STK/*/TSE/2317 | Event: Subscribe or Unsubscribe ok\n",
      "Response Code: 200 | Event Code: 16 | Info: TIC/v1/STK/*/TSE/2330 | Event: Subscribe or Unsubscribe ok\n",
      "Response Code: 200 | Event Code: 16 | Info: TIC/v1/STK/*/TSE/2890 | Event: Subscribe or Unsubscribe ok\n"
     ]
    }
   ],
   "source": [
    "quote_manager.unsubscribe_all_stk_tick()"
   ]
  },
  {
   "cell_type": "code",
   "execution_count": null,
   "id": "daee3e7d-fc95-4164-b889-89cd540a9062",
   "metadata": {},
   "outputs": [],
   "source": []
  }
 ],
 "metadata": {
  "kernelspec": {
   "display_name": "sj-trading",
   "language": "python",
   "name": "sj-trading"
  },
  "language_info": {
   "codemirror_mode": {
    "name": "ipython",
    "version": 3
   },
   "file_extension": ".py",
   "mimetype": "text/x-python",
   "name": "python",
   "nbconvert_exporter": "python",
   "pygments_lexer": "ipython3",
   "version": "3.12.6"
  }
 },
 "nbformat": 4,
 "nbformat_minor": 5
}
